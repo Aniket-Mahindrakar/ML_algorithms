{
  "nbformat": 4,
  "nbformat_minor": 0,
  "metadata": {
    "colab": {
      "provenance": [],
      "authorship_tag": "ABX9TyPj8eXPzHmTJxGUo55O8Hu9",
      "include_colab_link": true
    },
    "kernelspec": {
      "name": "python3",
      "display_name": "Python 3"
    },
    "language_info": {
      "name": "python"
    }
  },
  "cells": [
    {
      "cell_type": "markdown",
      "metadata": {
        "id": "view-in-github",
        "colab_type": "text"
      },
      "source": [
        "<a href=\"https://colab.research.google.com/github/Aniket-Mahindrakar/ML_algorithms/blob/main/K%20Nearest%20Neighbour.ipynb\" target=\"_parent\"><img src=\"https://colab.research.google.com/assets/colab-badge.svg\" alt=\"Open In Colab\"/></a>"
      ]
    },
    {
      "cell_type": "markdown",
      "source": [
        "# K - Nearest Neighbour"
      ],
      "metadata": {
        "id": "267RqVwveog6"
      }
    },
    {
      "cell_type": "code",
      "source": [
        "import math\n",
        "from collections import Counter"
      ],
      "metadata": {
        "id": "fcGuFlUxgmdS"
      },
      "execution_count": 22,
      "outputs": []
    },
    {
      "cell_type": "code",
      "execution_count": 23,
      "metadata": {
        "id": "LT2iftkyeRLM"
      },
      "outputs": [],
      "source": [
        "class KNN:\n",
        "  def init(self):\n",
        "    self.x = None\n",
        "    self.y = None\n",
        "    self.verbose = False\n",
        "    self.algorithm_type = \"regression\"\n",
        "\n",
        "  def fit(self, x, y, verbose = False, algorithm_type = \"regression\"):\n",
        "    self.x = x\n",
        "    self.y = y\n",
        "    self.verbose = verbose\n",
        "    self.algorithm_type = algorithm_type\n",
        "\n",
        "    if(self.verbose):\n",
        "      print(\"Train Inputs = \", (self.x, self.y))\n",
        "\n",
        "  def predict(self, x, k):\n",
        "    distance_label = [\n",
        "        (self.distance(x, train_point), train_label)\n",
        "        for train_point, train_label in\n",
        "        zip(self.x, self.y)\n",
        "    ]\n",
        "\n",
        "    if(self.verbose):\n",
        "      print(\"Neighbour distance labels = \", distance_label)\n",
        "\n",
        "    neighbours = sorted(distance_label)[:k]\n",
        "\n",
        "    if(self.verbose):\n",
        "      print(k, \"closest neighbour distances = \", [item for item, _ in neighbours])\n",
        "\n",
        "    if(self.algorithm_type == \"regression\"):\n",
        "      # Average of neighbour classes\n",
        "      return sum(label for _, label in neighbours) / k\n",
        "\n",
        "    elif(self.algorithm_type == \"classification\"):\n",
        "      # Majority of neighbour classes\n",
        "      neighbour_labels = [label for dist, label in neighbours]\n",
        "      return Counter(neighbour_labels).most_common()[0][0]\n",
        "\n",
        "  def distance(self, x_test, x_train, algorithm_type = \"regression\"):\n",
        "    if(self.algorithm_type == \"regression\"):\n",
        "      # Euclidean distance\n",
        "      distance = [(xte - xtr)**2 for xte, xtr in zip(x_test, x_train)]\n",
        "      distance = math.sqrt(sum(distance))\n",
        "\n",
        "    if(self.algorithm_type == \"classification\"):\n",
        "      # Cosine Similarity\n",
        "      sum_xTest_xTest, sum_xTest_xTrain, sum_xTrain_xTrain = 0, 0, 0\n",
        "      for i in range(len(x_test)):\n",
        "          x = x_test[i]; y = x_train[i]\n",
        "          sum_xTest_xTest += x*x\n",
        "          sum_xTrain_xTrain += y*y\n",
        "          sum_xTest_xTrain += x*y\n",
        "\n",
        "      distance = sum_xTest_xTrain / math.sqrt(sum_xTest_xTest * sum_xTrain_xTrain)\n",
        "\n",
        "    return distance"
      ]
    },
    {
      "cell_type": "code",
      "source": [
        "# Regression\n",
        "# Train Inputs\n",
        "x_train = [\n",
        "    [2, 5, 9],\n",
        "    [1, 6, 8],\n",
        "    [3, 4, 7]\n",
        "]\n",
        "\n",
        "y_train = [\n",
        "    0.5,\n",
        "    2,\n",
        "    4\n",
        "]\n",
        "\n",
        "verbose = True\n",
        "algorithm_type = \"regression\"\n",
        "\n",
        "# Test Inputs\n",
        "x_test = [1, 4, 9]\n",
        "k = 2\n",
        "\n",
        "# Model\n",
        "model = KNN()\n",
        "model.fit(x_train, y_train, verbose, algorithm_type)\n",
        "prediction = model.predict(x_test, k)\n",
        "\n",
        "print(\"\\nAverage prediction =\", prediction)"
      ],
      "metadata": {
        "colab": {
          "base_uri": "https://localhost:8080/"
        },
        "id": "LODQ_wrZpMfD",
        "outputId": "8c435910-37e4-4f37-8302-0d9e2f758ca0"
      },
      "execution_count": 24,
      "outputs": [
        {
          "output_type": "stream",
          "name": "stdout",
          "text": [
            "Train Inputs =  ([[2, 5, 9], [1, 6, 8], [3, 4, 7]], [0.5, 2, 4])\n",
            "Neighbour distance labels =  [(1.4142135623730951, 0.5), (2.23606797749979, 2), (2.8284271247461903, 4)]\n",
            "2 closest neighbour distances =  [1.4142135623730951, 2.23606797749979]\n",
            "\n",
            "Average prediction = 1.25\n"
          ]
        }
      ]
    },
    {
      "cell_type": "code",
      "source": [
        "# Classification\n",
        "# Train Inputs\n",
        "x_train = [\n",
        "    [2, 5, 9],\n",
        "    [1, 6, 8],\n",
        "    [3, 4, 7]\n",
        "]\n",
        "\n",
        "y_train = [\n",
        "    2,\n",
        "    2,\n",
        "    4\n",
        "]\n",
        "\n",
        "verbose = True\n",
        "algorithm_type = \"classification\"\n",
        "\n",
        "# Test Inputs\n",
        "x_test = [1, 4, 9]\n",
        "k = 3\n",
        "\n",
        "# Model\n",
        "model = KNN()\n",
        "model.fit(x_train, y_train, verbose, algorithm_type)\n",
        "prediction = model.predict(x_test, k)\n",
        "\n",
        "print(\"\\nMost frequent prediction =\", prediction)"
      ],
      "metadata": {
        "colab": {
          "base_uri": "https://localhost:8080/"
        },
        "id": "QDkKikJ4qRQq",
        "outputId": "5796f37b-958d-4550-fcc0-40062ff77cd2"
      },
      "execution_count": 27,
      "outputs": [
        {
          "output_type": "stream",
          "name": "stdout",
          "text": [
            "Train Inputs =  ([[2, 5, 9], [1, 6, 8], [3, 4, 7]], [2, 2, 4])\n",
            "Neighbour distance labels =  [(0.9920369404816276, 2), (0.9749851691262617, 2), (0.9629083542170928, 4)]\n",
            "3 closest neighbour distances =  [0.9629083542170928, 0.9749851691262617, 0.9920369404816276]\n",
            "\n",
            "Most frequent prediction = 2\n"
          ]
        }
      ]
    },
    {
      "cell_type": "code",
      "source": [],
      "metadata": {
        "id": "nv8Gc2ddtvvg"
      },
      "execution_count": null,
      "outputs": []
    }
  ]
}