{
  "nbformat": 4,
  "nbformat_minor": 0,
  "metadata": {
    "colab": {
      "provenance": [],
      "authorship_tag": "ABX9TyOQN9sZmY1sa+SRkYp5l4YH",
      "include_colab_link": true
    },
    "kernelspec": {
      "name": "python3",
      "display_name": "Python 3"
    },
    "language_info": {
      "name": "python"
    }
  },
  "cells": [
    {
      "cell_type": "markdown",
      "metadata": {
        "id": "view-in-github",
        "colab_type": "text"
      },
      "source": [
        "<a href=\"https://colab.research.google.com/github/Aniket-Mahindrakar/ML_algorithms/blob/main/K_Nearest_Neighbour.ipynb\" target=\"_parent\"><img src=\"https://colab.research.google.com/assets/colab-badge.svg\" alt=\"Open In Colab\"/></a>"
      ]
    },
    {
      "cell_type": "markdown",
      "source": [
        "# K - Nearest Neighbour"
      ],
      "metadata": {
        "id": "267RqVwveog6"
      }
    },
    {
      "cell_type": "code",
      "source": [
        "# Import classes\n",
        "import math\n",
        "import random\n",
        "from collections import Counter"
      ],
      "metadata": {
        "id": "fcGuFlUxgmdS"
      },
      "execution_count": 1,
      "outputs": []
    },
    {
      "cell_type": "code",
      "execution_count": 2,
      "metadata": {
        "id": "LT2iftkyeRLM"
      },
      "outputs": [],
      "source": [
        "# K Nearest Neighbour Model Implementation\n",
        "class KNN:\n",
        "  def init(self):\n",
        "    self.x = None\n",
        "    self.y = None\n",
        "    self.verbose = False\n",
        "    self.algorithm_type = \"regression\"\n",
        "\n",
        "  def fit(self, x, y, verbose = False, algorithm_type = \"regression\"):\n",
        "    self.x = x\n",
        "    self.y = y\n",
        "    self.verbose = verbose\n",
        "    self.algorithm_type = algorithm_type\n",
        "\n",
        "    if(self.verbose):\n",
        "      print(\"Train Inputs = \", (self.x, self.y))\n",
        "\n",
        "  def predict(self, x, k):\n",
        "    distance_label = [\n",
        "        (self.distance(x, train_point), train_label)\n",
        "        for train_point, train_label in\n",
        "        zip(self.x, self.y)\n",
        "    ]\n",
        "\n",
        "    if(self.verbose):\n",
        "      print(\"Neighbour distance labels = \", distance_label)\n",
        "\n",
        "    neighbours = sorted(distance_label)[:k]\n",
        "\n",
        "    if(self.verbose):\n",
        "      print(k, \"closest neighbour distances = \", [item for item, _ in neighbours])\n",
        "      print(k, \"closest neighbour labels = \", [item for _, item in neighbours])\n",
        "\n",
        "    if(self.algorithm_type == \"regression\"):\n",
        "      # Average of neighbour classes\n",
        "      return sum(label for _, label in neighbours) / k\n",
        "\n",
        "    elif(self.algorithm_type == \"classification\"):\n",
        "      # Majority of neighbour classes\n",
        "      neighbour_labels = [label for dist, label in neighbours]\n",
        "      return Counter(neighbour_labels).most_common()[0][0]\n",
        "\n",
        "  def distance(self, x_test, x_train, algorithm_type = \"regression\"):\n",
        "    if(self.algorithm_type == \"regression\"):\n",
        "      # Euclidean distance\n",
        "      distance = [(xte - xtr)**2 for xte, xtr in zip(x_test, x_train)]\n",
        "      distance = math.sqrt(sum(distance))\n",
        "\n",
        "    if(self.algorithm_type == \"classification\"):\n",
        "      # Cosine Similarity\n",
        "      sum_xTest_xTest, sum_xTest_xTrain, sum_xTrain_xTrain = 0, 0, 0\n",
        "      for i in range(len(x_test)):\n",
        "          x = x_test[i]; y = x_train[i]\n",
        "          sum_xTest_xTest += x*x\n",
        "          sum_xTrain_xTrain += y*y\n",
        "          sum_xTest_xTrain += x*y\n",
        "\n",
        "      distance = sum_xTest_xTrain / math.sqrt(sum_xTest_xTest * sum_xTrain_xTrain)\n",
        "\n",
        "    return distance"
      ]
    },
    {
      "cell_type": "code",
      "source": [
        "# Train Inputs\n",
        "x_train = []\n",
        "\n",
        "for i in [1, 2, 3]:\n",
        "  for j in [4, 5, 6]:\n",
        "    for k in [7, 8, 9]:\n",
        "      x_train.append([i, j, k])\n",
        "\n",
        "verbose = True"
      ],
      "metadata": {
        "id": "bCQY9nPF2Ugn"
      },
      "execution_count": 3,
      "outputs": []
    },
    {
      "cell_type": "code",
      "source": [
        "# Regression\n",
        "# Train Inputs\n",
        "y_train = random.sample([r/100 for r in range(1, 900, 1)], len(x_train))\n",
        "\n",
        "algorithm_type = \"regression\"\n",
        "\n",
        "# Test Inputs\n",
        "x_test = [1, 4, 9]\n",
        "k = 2\n",
        "\n",
        "# Model\n",
        "model = KNN()\n",
        "\n",
        "# Model training\n",
        "model.fit(x_train, y_train, verbose, algorithm_type)\n",
        "\n",
        "# Model testing\n",
        "prediction = model.predict(x_test, k)\n",
        "\n",
        "print(\"\\nAverage prediction =\", prediction)"
      ],
      "metadata": {
        "colab": {
          "base_uri": "https://localhost:8080/"
        },
        "id": "LODQ_wrZpMfD",
        "outputId": "d63d6df2-bcfe-4025-deb4-ea353d3c70bd"
      },
      "execution_count": 4,
      "outputs": [
        {
          "output_type": "stream",
          "name": "stdout",
          "text": [
            "Train Inputs =  ([[1, 4, 7], [1, 4, 8], [1, 4, 9], [1, 5, 7], [1, 5, 8], [1, 5, 9], [1, 6, 7], [1, 6, 8], [1, 6, 9], [2, 4, 7], [2, 4, 8], [2, 4, 9], [2, 5, 7], [2, 5, 8], [2, 5, 9], [2, 6, 7], [2, 6, 8], [2, 6, 9], [3, 4, 7], [3, 4, 8], [3, 4, 9], [3, 5, 7], [3, 5, 8], [3, 5, 9], [3, 6, 7], [3, 6, 8], [3, 6, 9]], [2.22, 6.91, 5.67, 8.0, 5.26, 4.31, 7.25, 3.94, 3.46, 7.3, 2.17, 6.0, 1.29, 5.33, 5.08, 6.73, 0.21, 2.98, 7.42, 3.27, 4.03, 4.47, 2.21, 0.95, 7.36, 5.0, 5.37])\n",
            "Neighbour distance labels =  [(2.0, 2.22), (1.0, 6.91), (0.0, 5.67), (2.23606797749979, 8.0), (1.4142135623730951, 5.26), (1.0, 4.31), (2.8284271247461903, 7.25), (2.23606797749979, 3.94), (2.0, 3.46), (2.23606797749979, 7.3), (1.4142135623730951, 2.17), (1.0, 6.0), (2.449489742783178, 1.29), (1.7320508075688772, 5.33), (1.4142135623730951, 5.08), (3.0, 6.73), (2.449489742783178, 0.21), (2.23606797749979, 2.98), (2.8284271247461903, 7.42), (2.23606797749979, 3.27), (2.0, 4.03), (3.0, 4.47), (2.449489742783178, 2.21), (2.23606797749979, 0.95), (3.4641016151377544, 7.36), (3.0, 5.0), (2.8284271247461903, 5.37)]\n",
            "2 closest neighbour distances =  [0.0, 1.0]\n",
            "2 closest neighbour labels =  [5.67, 4.31]\n",
            "\n",
            "Average prediction = 4.99\n"
          ]
        }
      ]
    },
    {
      "cell_type": "code",
      "source": [
        "# Classification\n",
        "# Train Inputs\n",
        "y_train = random.choices(range(1, 9), k=len(x_train))\n",
        "\n",
        "algorithm_type = \"classification\"\n",
        "\n",
        "# Test Inputs\n",
        "x_test = [1, 4, 9]\n",
        "k = 3\n",
        "\n",
        "# Model\n",
        "model = KNN()\n",
        "\n",
        "# Model training\n",
        "model.fit(x_train, y_train, verbose, algorithm_type)\n",
        "\n",
        "# Model testing\n",
        "prediction = model.predict(x_test, k)\n",
        "\n",
        "print(\"\\nMost frequent prediction =\", prediction)"
      ],
      "metadata": {
        "colab": {
          "base_uri": "https://localhost:8080/"
        },
        "id": "QDkKikJ4qRQq",
        "outputId": "56acc871-4740-4a9a-c85b-956a23401007"
      },
      "execution_count": 5,
      "outputs": [
        {
          "output_type": "stream",
          "name": "stdout",
          "text": [
            "Train Inputs =  ([[1, 4, 7], [1, 4, 8], [1, 4, 9], [1, 5, 7], [1, 5, 8], [1, 5, 9], [1, 6, 7], [1, 6, 8], [1, 6, 9], [2, 4, 7], [2, 4, 8], [2, 4, 9], [2, 5, 7], [2, 5, 8], [2, 5, 9], [2, 6, 7], [2, 6, 8], [2, 6, 9], [3, 4, 7], [3, 4, 8], [3, 4, 9], [3, 5, 7], [3, 5, 8], [3, 5, 9], [3, 6, 7], [3, 6, 8], [3, 6, 9]], [3, 3, 3, 2, 6, 2, 4, 3, 3, 6, 8, 6, 5, 2, 3, 1, 7, 6, 3, 3, 5, 2, 3, 1, 5, 1, 5])\n",
            "Neighbour distance labels =  [(0.9947294626039876, 3), (0.9989286273905196, 3), (1.0, 3), (0.9797958971132712, 2), (0.9902586757499069, 6), (0.9960823508073664, 2), (0.958562442090658, 4), (0.9749851691262617, 3), (0.9857160402833807, 3), (0.9850254141636948, 6), (0.9919501068991623, 8), (0.9950879561185557, 6), (0.9722066481023147, 5), (0.9846306294290864, 2), (0.9920369404816276, 3), (0.9529760045804524, 1), (0.970725343394151, 7), (0.9826029297007869, 6), (0.9629083542170928, 3), (0.9743911956946198, 3), (0.9811468853477787, 5), (0.9535563601534947, 2), (0.9693877551020408, 3), (0.9796509890451692, 1), (0.9377035167721793, 5), (0.9578751526625863, 1), (0.97190864488087, 5)]\n",
            "3 closest neighbour distances =  [0.9377035167721793, 0.9529760045804524, 0.9535563601534947]\n",
            "3 closest neighbour labels =  [5, 1, 2]\n",
            "\n",
            "Most frequent prediction = 5\n"
          ]
        }
      ]
    },
    {
      "cell_type": "code",
      "source": [],
      "metadata": {
        "id": "nv8Gc2ddtvvg"
      },
      "execution_count": 5,
      "outputs": []
    }
  ]
}